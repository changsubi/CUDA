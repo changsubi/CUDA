{
  "nbformat": 4,
  "nbformat_minor": 0,
  "metadata": {
    "colab": {
      "provenance": []
    },
    "kernelspec": {
      "name": "python3",
      "display_name": "Python 3"
    },
    "language_info": {
      "name": "python"
    },
    "accelerator": "GPU",
    "gpuClass": "standard"
  },
  "cells": [
    {
      "cell_type": "code",
      "execution_count": 1,
      "metadata": {
        "colab": {
          "base_uri": "https://localhost:8080/"
        },
        "id": "ZDIYOG-PJ8Pg",
        "outputId": "c5b662f3-640a-48c4-b299-53c92e49f3ab"
      },
      "outputs": [
        {
          "output_type": "stream",
          "name": "stdout",
          "text": [
            "nvcc: NVIDIA (R) Cuda compiler driver\n",
            "Copyright (c) 2005-2022 NVIDIA Corporation\n",
            "Built on Tue_Mar__8_18:18:20_PST_2022\n",
            "Cuda compilation tools, release 11.6, V11.6.124\n",
            "Build cuda_11.6.r11.6/compiler.31057947_0\n"
          ]
        }
      ],
      "source": [
        "!nvcc -V"
      ]
    },
    {
      "cell_type": "code",
      "source": [
        "%%writefile hello.cu\n",
        "#include <stdio.h>\n",
        "\n",
        "__global__ void hello(void)\n",
        "{\n",
        "  printf(\"GPU hello world\\n\");\n",
        "}\n",
        "\n",
        "int main(int argc, char** argv)\n",
        "{\n",
        "  printf(\"CPU hello world\\n\");\n",
        "  hello<<<1,10>>>();\n",
        "  cudaDeviceReset();\n",
        "\n",
        "  return 0;\n",
        "}"
      ],
      "metadata": {
        "colab": {
          "base_uri": "https://localhost:8080/"
        },
        "id": "Lusibq__KCjW",
        "outputId": "28a64d35-0b99-4d79-a8f3-451d9577c5c6"
      },
      "execution_count": 2,
      "outputs": [
        {
          "output_type": "stream",
          "name": "stdout",
          "text": [
            "Writing hello.cu\n"
          ]
        }
      ]
    },
    {
      "cell_type": "code",
      "source": [
        "!nvcc hello.cu -o hello"
      ],
      "metadata": {
        "id": "LDf7RtypKyiz"
      },
      "execution_count": 3,
      "outputs": []
    },
    {
      "cell_type": "code",
      "source": [
        "!./hello"
      ],
      "metadata": {
        "colab": {
          "base_uri": "https://localhost:8080/"
        },
        "id": "J5UJQ1F2K4Ci",
        "outputId": "b4c06cb3-04d7-47a0-fe30-fcdcdb50fa45"
      },
      "execution_count": 4,
      "outputs": [
        {
          "output_type": "stream",
          "name": "stdout",
          "text": [
            "CPU hello world\n",
            "GPU hello world\n",
            "GPU hello world\n",
            "GPU hello world\n",
            "GPU hello world\n",
            "GPU hello world\n",
            "GPU hello world\n",
            "GPU hello world\n",
            "GPU hello world\n",
            "GPU hello world\n",
            "GPU hello world\n"
          ]
        }
      ]
    }
  ]
}